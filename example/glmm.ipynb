{
 "cells": [
  {
   "cell_type": "code",
   "execution_count": 20,
   "id": "01d4e489",
   "metadata": {},
   "outputs": [],
   "source": [
    "import pandas as pd\n",
    "import matplotlib.pyplot as plt\n",
    "import seaborn as sns\n",
    "import jax.numpy as jnp\n",
    "from jax.scipy.special import expit\n",
    "from jax import random\n",
    "import numpyro as npr\n",
    "import numpyro.distributions as dist\n",
    "from numpyro.infer import MCMC, NUTS\n",
    "\n",
    "import arviz as az\n",
    "\n",
    "DATA_PATH = \"../data/Causality_tDCS_sample.csv\"\n",
    "rng_key = random.key(1133555)"
   ]
  },
  {
   "cell_type": "markdown",
   "id": "933534df",
   "metadata": {},
   "source": [
    "## 1. Load and inspect the data"
   ]
  },
  {
   "cell_type": "markdown",
   "id": "4155e137",
   "metadata": {},
   "source": [
    "We first need to get an overview of our data and understand what each variable means. Before continuing though, you should first get an overview of the experiment, understand the task and the procedure. You can find a very brief summary here and have a look at one of the papers for more details.\n",
    "\n",
    "**Experiment summary**\n",
    "\n",
    "Participants were observing simulated Michotte Launching Events where a blue disk moves towards a red one, comes into contact with it, stops and then the red one starts moving. They gave binary judgements whether they perceived the event as causal or non-causal. <br>\n",
    "Participants either belonged to a ``group`` of patients being treated for Schizophrenia Spectrum Disorder (SSD) or a healthy control (HC) group. <br>\n",
    "In each trial the red disk moved with a certain ``angle`` of egress and a certain ``delay`` after the contact. <br>\n",
    "Each participant repeated the same 98 trials on different days. They did 48 trials first, then a transcranial direct current stimulation (tDCS) was applied, then they did the same 48 trials again. On each day the stimulation was applied to a different brain area. HCs took part in 7 different ``stimulation``s, SSDs only in 4 different stimulations. <br>\n",
    "Foreach trial the given `causality_judgement` and the response time (`RT`) was collected.\n",
    "\n",
    "Related papers for more details and figures:\n",
    "\n",
    "* Streiling, K., Schülke, R., Straube, B. et al. Choice- and trial-history effects on causality perception in Schizophrenia Spectrum Disorder. Schizophr 11, 65 (2025). https://doi.org/10.1038/s41537-025-00614-0\n",
    "* Schülke R, Schmitter CV, Straube B. Improving causality perception judgments in schizophrenia spectrum disorder via transcranial direct current stimulation. J Psychiatry Neurosci. 2023 Jul 4;48(4):E245-E254. doi: https://10.1503/jpn.220184. Erratum in: J Psychiatry Neurosci. 2024 Apr 23;49(2):E144. doi: 10.1503/jpn.240042. PMID: 37402578; PMCID: PMC10322162."
   ]
  },
  {
   "cell_type": "code",
   "execution_count": 2,
   "id": "f9ee263e",
   "metadata": {},
   "outputs": [
    {
     "data": {
      "text/html": [
       "<div>\n",
       "<style scoped>\n",
       "    .dataframe tbody tr th:only-of-type {\n",
       "        vertical-align: middle;\n",
       "    }\n",
       "\n",
       "    .dataframe tbody tr th {\n",
       "        vertical-align: top;\n",
       "    }\n",
       "\n",
       "    .dataframe thead th {\n",
       "        text-align: right;\n",
       "    }\n",
       "</style>\n",
       "<table border=\"1\" class=\"dataframe\">\n",
       "  <thead>\n",
       "    <tr style=\"text-align: right;\">\n",
       "      <th></th>\n",
       "      <th>subject_id</th>\n",
       "      <th>selection_matching</th>\n",
       "      <th>baseline_stimulation</th>\n",
       "      <th>stimulation</th>\n",
       "      <th>group</th>\n",
       "      <th>time</th>\n",
       "      <th>angle</th>\n",
       "      <th>causality_judgement</th>\n",
       "      <th>RT</th>\n",
       "      <th>trialnumber</th>\n",
       "      <th>RT_corrected_for_delay</th>\n",
       "      <th>error_responses</th>\n",
       "    </tr>\n",
       "  </thead>\n",
       "  <tbody>\n",
       "    <tr>\n",
       "      <th>0</th>\n",
       "      <td>2.0</td>\n",
       "      <td>1</td>\n",
       "      <td>1.0</td>\n",
       "      <td>1.0</td>\n",
       "      <td>0.0</td>\n",
       "      <td>4.0</td>\n",
       "      <td>22,5</td>\n",
       "      <td>1.0</td>\n",
       "      <td>1557,1</td>\n",
       "      <td>1.0</td>\n",
       "      <td>1490,46</td>\n",
       "      <td>0</td>\n",
       "    </tr>\n",
       "    <tr>\n",
       "      <th>1</th>\n",
       "      <td>2.0</td>\n",
       "      <td>1</td>\n",
       "      <td>1.0</td>\n",
       "      <td>1.0</td>\n",
       "      <td>0.0</td>\n",
       "      <td>0.0</td>\n",
       "      <td>30</td>\n",
       "      <td>1.0</td>\n",
       "      <td>1480,6</td>\n",
       "      <td>2.0</td>\n",
       "      <td>1480,6</td>\n",
       "      <td>0</td>\n",
       "    </tr>\n",
       "    <tr>\n",
       "      <th>2</th>\n",
       "      <td>2.0</td>\n",
       "      <td>1</td>\n",
       "      <td>1.0</td>\n",
       "      <td>1.0</td>\n",
       "      <td>0.0</td>\n",
       "      <td>16.0</td>\n",
       "      <td>22,5</td>\n",
       "      <td>0.0</td>\n",
       "      <td>1615</td>\n",
       "      <td>3.0</td>\n",
       "      <td>1348,44</td>\n",
       "      <td>0</td>\n",
       "    </tr>\n",
       "    <tr>\n",
       "      <th>3</th>\n",
       "      <td>2.0</td>\n",
       "      <td>1</td>\n",
       "      <td>1.0</td>\n",
       "      <td>1.0</td>\n",
       "      <td>0.0</td>\n",
       "      <td>0.0</td>\n",
       "      <td>0</td>\n",
       "      <td>1.0</td>\n",
       "      <td>1395,2</td>\n",
       "      <td>4.0</td>\n",
       "      <td>1395,2</td>\n",
       "      <td>0</td>\n",
       "    </tr>\n",
       "    <tr>\n",
       "      <th>4</th>\n",
       "      <td>2.0</td>\n",
       "      <td>1</td>\n",
       "      <td>1.0</td>\n",
       "      <td>1.0</td>\n",
       "      <td>0.0</td>\n",
       "      <td>8.0</td>\n",
       "      <td>22,5</td>\n",
       "      <td>0.0</td>\n",
       "      <td>1530,4</td>\n",
       "      <td>5.0</td>\n",
       "      <td>1397,12</td>\n",
       "      <td>0</td>\n",
       "    </tr>\n",
       "    <tr>\n",
       "      <th>...</th>\n",
       "      <td>...</td>\n",
       "      <td>...</td>\n",
       "      <td>...</td>\n",
       "      <td>...</td>\n",
       "      <td>...</td>\n",
       "      <td>...</td>\n",
       "      <td>...</td>\n",
       "      <td>...</td>\n",
       "      <td>...</td>\n",
       "      <td>...</td>\n",
       "      <td>...</td>\n",
       "      <td>...</td>\n",
       "    </tr>\n",
       "    <tr>\n",
       "      <th>53989</th>\n",
       "      <td>120.0</td>\n",
       "      <td>1</td>\n",
       "      <td>2.0</td>\n",
       "      <td>7.0</td>\n",
       "      <td>1.0</td>\n",
       "      <td>16.0</td>\n",
       "      <td>45</td>\n",
       "      <td>0.0</td>\n",
       "      <td>1930,9</td>\n",
       "      <td>95.0</td>\n",
       "      <td>1664,34</td>\n",
       "      <td>0</td>\n",
       "    </tr>\n",
       "    <tr>\n",
       "      <th>53990</th>\n",
       "      <td>120.0</td>\n",
       "      <td>1</td>\n",
       "      <td>2.0</td>\n",
       "      <td>7.0</td>\n",
       "      <td>1.0</td>\n",
       "      <td>6.0</td>\n",
       "      <td>0</td>\n",
       "      <td>1.0</td>\n",
       "      <td>1706,4</td>\n",
       "      <td>96.0</td>\n",
       "      <td>1606,44</td>\n",
       "      <td>0</td>\n",
       "    </tr>\n",
       "    <tr>\n",
       "      <th>53991</th>\n",
       "      <td>120.0</td>\n",
       "      <td>1</td>\n",
       "      <td>2.0</td>\n",
       "      <td>7.0</td>\n",
       "      <td>1.0</td>\n",
       "      <td>4.0</td>\n",
       "      <td>0</td>\n",
       "      <td>1.0</td>\n",
       "      <td>1720,5</td>\n",
       "      <td>97.0</td>\n",
       "      <td>1653,86</td>\n",
       "      <td>0</td>\n",
       "    </tr>\n",
       "    <tr>\n",
       "      <th>53992</th>\n",
       "      <td>120.0</td>\n",
       "      <td>1</td>\n",
       "      <td>2.0</td>\n",
       "      <td>7.0</td>\n",
       "      <td>1.0</td>\n",
       "      <td>2.0</td>\n",
       "      <td>22,5</td>\n",
       "      <td>1.0</td>\n",
       "      <td>1719,9</td>\n",
       "      <td>98.0</td>\n",
       "      <td>1686,58</td>\n",
       "      <td>0</td>\n",
       "    </tr>\n",
       "    <tr>\n",
       "      <th>53993</th>\n",
       "      <td>NaN</td>\n",
       "      <td>NaN</td>\n",
       "      <td>NaN</td>\n",
       "      <td>NaN</td>\n",
       "      <td>NaN</td>\n",
       "      <td>NaN</td>\n",
       "      <td>NaN</td>\n",
       "      <td>NaN</td>\n",
       "      <td>NaN</td>\n",
       "      <td>NaN</td>\n",
       "      <td>NaN</td>\n",
       "      <td>83</td>\n",
       "    </tr>\n",
       "  </tbody>\n",
       "</table>\n",
       "<p>53994 rows × 12 columns</p>\n",
       "</div>"
      ],
      "text/plain": [
       "       subject_id selection_matching  baseline_stimulation  stimulation  \\\n",
       "0             2.0                  1                   1.0          1.0   \n",
       "1             2.0                  1                   1.0          1.0   \n",
       "2             2.0                  1                   1.0          1.0   \n",
       "3             2.0                  1                   1.0          1.0   \n",
       "4             2.0                  1                   1.0          1.0   \n",
       "...           ...                ...                   ...          ...   \n",
       "53989       120.0                  1                   2.0          7.0   \n",
       "53990       120.0                  1                   2.0          7.0   \n",
       "53991       120.0                  1                   2.0          7.0   \n",
       "53992       120.0                  1                   2.0          7.0   \n",
       "53993         NaN                NaN                   NaN          NaN   \n",
       "\n",
       "       group  time angle  causality_judgement      RT  trialnumber  \\\n",
       "0        0.0   4.0  22,5                  1.0  1557,1          1.0   \n",
       "1        0.0   0.0    30                  1.0  1480,6          2.0   \n",
       "2        0.0  16.0  22,5                  0.0    1615          3.0   \n",
       "3        0.0   0.0     0                  1.0  1395,2          4.0   \n",
       "4        0.0   8.0  22,5                  0.0  1530,4          5.0   \n",
       "...      ...   ...   ...                  ...     ...          ...   \n",
       "53989    1.0  16.0    45                  0.0  1930,9         95.0   \n",
       "53990    1.0   6.0     0                  1.0  1706,4         96.0   \n",
       "53991    1.0   4.0     0                  1.0  1720,5         97.0   \n",
       "53992    1.0   2.0  22,5                  1.0  1719,9         98.0   \n",
       "53993    NaN   NaN   NaN                  NaN     NaN          NaN   \n",
       "\n",
       "      RT_corrected_for_delay  error_responses  \n",
       "0                    1490,46                0  \n",
       "1                     1480,6                0  \n",
       "2                    1348,44                0  \n",
       "3                     1395,2                0  \n",
       "4                    1397,12                0  \n",
       "...                      ...              ...  \n",
       "53989                1664,34                0  \n",
       "53990                1606,44                0  \n",
       "53991                1653,86                0  \n",
       "53992                1686,58                0  \n",
       "53993                    NaN               83  \n",
       "\n",
       "[53994 rows x 12 columns]"
      ]
     },
     "execution_count": 2,
     "metadata": {},
     "output_type": "execute_result"
    }
   ],
   "source": [
    "# read in data\n",
    "df = pd.read_csv(DATA_PATH, sep=\"\\t\")\n",
    "df"
   ]
  },
  {
   "cell_type": "markdown",
   "id": "25e4e6c5",
   "metadata": {},
   "source": [
    "**Data columns**\n",
    "\n",
    "* `subject_id`: The ID of each participant. IDs below 100 belong to HCs.\n",
    "* `selection_matching`: There were more HCs than SSDs. This column selects a subet of th HCs (`selection_match=1`) to make both groups demographically comparable\n",
    "* `baseline_stimulation`: 1: trial was before the tDCS stimulation, 2: trial was after the stimulation\n",
    "* `stimulation`: Type of stimulation applied\n",
    "  * 1=LFC-RFA, 2=LFA-RFC, 3=LPC-RPA, 4=LPA-RPC, 5=LFC-RPA, 6=LFA-RPC, 7=sham \n",
    "  * where LFC = left frontal cathode, RFA=right frontal anode, LPC=left parietal cathode, etc.\n",
    "* ``group``: 0: healthy control group, 1: patients with SSD\n",
    "* ``time``: delay in frames between the contact of the blue ball and the start of the movement of the red\n",
    "* `angle`: angle of egress (in degree) of the red ball's movement relative to the blue balls movement\n",
    "* `causality_judgement`: 0: causal, 1: non causal\n",
    "* `RT`: reaction time\n",
    "* `trial number`: trial sequence identifier\n",
    "* `RT_corrected_for_delay`: reaction time but corrected for the delay (value in `time`) of the trial\n",
    "* `error_responses`: 0: valid response, 1: erroneous response, e.g. multiple answers were given. "
   ]
  },
  {
   "cell_type": "markdown",
   "id": "dc65b6b0",
   "metadata": {},
   "source": [
    "## 2. Model definition"
   ]
  },
  {
   "cell_type": "markdown",
   "id": "f9bfa3ba",
   "metadata": {},
   "source": [
    "We can now pose a question about this data, for example: \n",
    "\n",
    "                Do delay and angle influence the causality judgement differently for SSDs and HCs?              "
   ]
  },
  {
   "cell_type": "markdown",
   "id": "36c90421",
   "metadata": {},
   "source": [
    "#### Putting the Generalized into Linear Models\n",
    "To answer this question with the data, we can make apply a range of ANOVAs, t-tests or Wilcoxon signed rank tests. An alternative is perform a sort of regression and see how the values of our variables (angle, time and group) influence the binary decision (causality_judgement). This sort of regression is called a *Generalized Model*. For starters, and because we have no other prior expectations, we can siimply assume a linear relation between angle and time, which makes the model a *Generalized Linear Model*.\n",
    "\n",
    "The generalization comes from the fact that our dependent variable is binary, thus, we need a link function to link a real value (-$\\infty$ to $+\\infty$) to a value between 0 and 1 that we can interpret as the probability of one kind of response, e.g. the probability of responding \"causal\". Typically, we use the [logistic (or sigmoid or expit) function](https://en.wikipedia.org/wiki/Logistic_function) as link function:\n",
    "\n",
    "$$p(x) = \\frac{1}{1+e^{-x}}$$\n",
    "\n",
    "where\n",
    "* $x$ is the (linear) combination of our independent variables\n",
    "* $p$ is the probability of responding \"causal\""
   ]
  },
  {
   "cell_type": "markdown",
   "id": "ecfeb933",
   "metadata": {},
   "source": [
    "#### A lot of choices\n",
    "\n",
    "The one challenge with any sort of (statistical) modelling is, that there is no single (statistical) model to rule the all. Here, for example, we have many choices how to combine our three variables (angle, time and group). \n",
    "\n",
    "**Starting somewhere** <br>\n",
    "The naive and simplest way would be to assign each variable a *weight* and combine them linearly to get our input ($x$) to the logistic function above:\n",
    "\n",
    "$$x_t = \\alpha \\cdot angle_t + \\beta \\cdot time_t + \\gamma \\cdot group_t$$\n",
    "\n",
    "where \n",
    "* $x_t$ is the logit (input to the logistic function) at trial $t$\n",
    "* $angle_t$, $time_t$, $group_t$ are the values of the three variables at trial $t$\n",
    "* $\\alpha$, $\\beta$, $\\gamma$ are the weights assign to the respective variable\n",
    "\n",
    "**Remembering the question** <br>\n",
    "If we look back to our question above however, we remember that we were actually interested in the *interaction* between the group and the effects of angle and time. <br>\n",
    "To include this interaction we could, for example, add a group specific offset to the angle and time weights:\n",
    "\n",
    "$$x_t = (\\alpha + \\alpha_g \\cdot group) \\cdot angle_t + (\\beta + \\beta_g \\cdot group) \\cdot time_t + \\gamma \\cdot group_t$$\n",
    "\n",
    "where\n",
    "* $\\alpha_g$ is added to the weight of the angle ($\\alpha$) depending on the value of group. <br> \n",
    "    To make the example clearer, we have mainly two ways of encoding the groups (HCs and SSD), that also slightly change the meaning of the weights:\n",
    "  * If our group encodes HCs as 0 and SSDs as 1, then $\\alpha_g$ is added to $\\alpha$ if the participant is of the group SSD.\n",
    "  * If our group encodes HCs as -1 and SSDs as 1, then $\\alpha_g$ is added to $\\alpha$ if the participant is of the group SSD and subtracted from $\\alpha$ if the participant is of the group HC.\n",
    "\n",
    "The equivalent explanation holds for the weight $\\beta$."
   ]
  },
  {
   "cell_type": "markdown",
   "id": "3d115374",
   "metadata": {},
   "source": [
    "Now, with that we have already defined two models and can now implement them in our favourite probabilistic programmin framework and compare them."
   ]
  },
  {
   "cell_type": "markdown",
   "id": "65b84a2f",
   "metadata": {},
   "source": [
    "## 3. Data pre-processing"
   ]
  },
  {
   "cell_type": "markdown",
   "id": "beb2a4ea",
   "metadata": {},
   "source": [
    "In order to do the fitting, we have to prepare our data a little bit.\n",
    "\n",
    "First, we select the subset of healthy controls marked by the `selection_matching` column."
   ]
  },
  {
   "cell_type": "code",
   "execution_count": 3,
   "id": "d6ba3e83",
   "metadata": {},
   "outputs": [],
   "source": [
    "df = df[df[\"selection_matching\"] == \"1\"]\n",
    "# drop the column as it has no more information\n",
    "df = df.drop(columns=[\"selection_matching\"])"
   ]
  },
  {
   "cell_type": "markdown",
   "id": "4e216f06",
   "metadata": {},
   "source": [
    "Then, in order to balance the two datasets, we only and keep data from those tDCS stimulation sessions that were conducted on both groups (session 1, 3, 5 and 7)."
   ]
  },
  {
   "cell_type": "code",
   "execution_count": 4,
   "id": "e8f2044b",
   "metadata": {},
   "outputs": [],
   "source": [
    "df = df[df[\"stimulation\"].isin([1,3,5,7])]"
   ]
  },
  {
   "cell_type": "markdown",
   "id": "cea730f7",
   "metadata": {},
   "source": [
    "Then we drop those trials that were marked as potentially erroneous."
   ]
  },
  {
   "cell_type": "code",
   "execution_count": 5,
   "id": "3720fb4b",
   "metadata": {},
   "outputs": [],
   "source": [
    "df = df[df[\"error_responses\"] == 0]\n",
    "# drop the column as it has no more information\n",
    "df = df.drop(columns=[\"error_responses\"])"
   ]
  },
  {
   "cell_type": "markdown",
   "id": "bcac7a32",
   "metadata": {},
   "source": [
    "It seems that there is still one \"weird\" trial with a causality_judgement of 3..."
   ]
  },
  {
   "cell_type": "code",
   "execution_count": 6,
   "id": "1a717207",
   "metadata": {},
   "outputs": [
    {
     "data": {
      "text/plain": [
       "causality_judgement\n",
       "0.0    16172\n",
       "1.0    15043\n",
       "3.0        1\n",
       "Name: count, dtype: int64"
      ]
     },
     "execution_count": 6,
     "metadata": {},
     "output_type": "execute_result"
    }
   ],
   "source": [
    "df[\"causality_judgement\"].value_counts()"
   ]
  },
  {
   "cell_type": "markdown",
   "id": "2062efa4",
   "metadata": {},
   "source": [
    "... so we drop this one too."
   ]
  },
  {
   "cell_type": "code",
   "execution_count": 7,
   "id": "f19964f6",
   "metadata": {},
   "outputs": [],
   "source": [
    "df = df[df[\"causality_judgement\"].isin([0,1])]"
   ]
  },
  {
   "cell_type": "markdown",
   "id": "43a5b652",
   "metadata": {},
   "source": [
    "Finally, our data is still not very clean. I.e. the angle and reaction time values are actually strings with the decimal sign being a German \",\" instead of a \".\".\n",
    "We can see this when we look at the DataFrame's dtypes:"
   ]
  },
  {
   "cell_type": "code",
   "execution_count": 8,
   "id": "1a9168fa",
   "metadata": {},
   "outputs": [
    {
     "data": {
      "text/plain": [
       "subject_id                float64\n",
       "baseline_stimulation      float64\n",
       "stimulation               float64\n",
       "group                     float64\n",
       "time                      float64\n",
       "angle                      object\n",
       "causality_judgement       float64\n",
       "RT                         object\n",
       "trialnumber               float64\n",
       "RT_corrected_for_delay     object\n",
       "dtype: object"
      ]
     },
     "execution_count": 8,
     "metadata": {},
     "output_type": "execute_result"
    }
   ],
   "source": [
    "df.dtypes"
   ]
  },
  {
   "cell_type": "markdown",
   "id": "92cc80ce",
   "metadata": {},
   "source": [
    "So, we replace the decimal sign in these columns and convert them to floating point numbers:"
   ]
  },
  {
   "cell_type": "code",
   "execution_count": 9,
   "id": "d26087e0",
   "metadata": {},
   "outputs": [],
   "source": [
    "for col in [\"angle\", \"RT\", \"RT_corrected_for_delay\"]:\n",
    "    df[col] = list(map(lambda x: x.replace(\",\", \".\"), df[col]))\n",
    "    df[col] = df[col].astype(float)"
   ]
  },
  {
   "cell_type": "markdown",
   "id": "5bd20140",
   "metadata": {},
   "source": [
    "**Normalization**\n",
    "\n",
    "Now, one trick to make these models find a solution quicker is to scale your data (or \"normalize\" it), i.e. compress it to a space somewhat close to zero in a meaningful way. <br>\n",
    "We are left with only 4 columns containing real valued numbers: time, angle, RT and RT_corrected_for_delay. (The rest are categorical or binary).\n",
    "\n",
    "Time and angle are not smaller than zero, so it makes sense to compress them to a range between 0 and 1 where 0 corresponds to the smallest and 1 to the largest value in our data (also called min-max normalization):"
   ]
  },
  {
   "cell_type": "code",
   "execution_count": 10,
   "id": "ab26e53b",
   "metadata": {},
   "outputs": [],
   "source": [
    "def normalize(x):\n",
    "    return (x - x.min()) / (x.max() - x.min())\n",
    "\n",
    "for col in [\"time\", \"angle\"]:\n",
    "    df[col + \"_norm\"] = normalize(df[col])"
   ]
  },
  {
   "cell_type": "markdown",
   "id": "4ef991ae",
   "metadata": {},
   "source": [
    "The reaction time on the other hand looks at least somewhat Gaussian distributed (even if we have huge tail due to some very long outliers), so here we can standardize it with mean zero and standard deviation 1."
   ]
  },
  {
   "cell_type": "code",
   "execution_count": 11,
   "id": "1ec3f28c",
   "metadata": {},
   "outputs": [],
   "source": [
    "def standardize(x):\n",
    "    return (x - x.mean()) / x.std()\n",
    "\n",
    "for col in [\"RT\", \"RT_corrected_for_delay\"]:\n",
    "    df[col + \"_norm\"] = standardize(df[col])"
   ]
  },
  {
   "cell_type": "code",
   "execution_count": 12,
   "id": "c25f9b3c",
   "metadata": {},
   "outputs": [
    {
     "data": {
      "image/png": "[encoded data removed]",
      "text/plain": [
       "<Figure size 600x200 with 2 Axes>"
      ]
     },
     "metadata": {},
     "output_type": "display_data"
    }
   ],
   "source": [
    "fig, axs = plt.subplots(1, 2, figsize=(6, 2))\n",
    "\n",
    "for i, col in enumerate([\"RT\", \"RT_norm\"]):\n",
    "    sns.histplot(df, x=col, ax=axs[i])\n",
    "\n",
    "plt.tight_layout()\n",
    "plt.show()"
   ]
  },
  {
   "cell_type": "markdown",
   "id": "e1c5cd9b",
   "metadata": {},
   "source": [
    "## 4. Model implementation and fitting"
   ]
  },
  {
   "cell_type": "markdown",
   "id": "7d27dbd5",
   "metadata": {},
   "source": [
    "As an example, we will use the frameworks [jax](https://docs.jax.dev/en/latest/notebooks/thinking_in_jax.html) and [numpyro](https://num.pyro.ai/en/stable/getting_started.html) here. Valid alternatives are [pymc](https://www.pymc.io/welcome.html) (similar interface) or [bambi](https://bambinos.github.io/bambi/) (very simple model definition uses pymc)."
   ]
  },
  {
   "cell_type": "code",
   "execution_count": 28,
   "id": "2764a960",
   "metadata": {},
   "outputs": [],
   "source": [
    "# Hint: Before we fit a model, we need to make sure our dataset does not contain missing values!\n",
    "assert (df.isna().sum() == 0).all()"
   ]
  },
  {
   "cell_type": "code",
   "execution_count": 17,
   "id": "46781f56",
   "metadata": {},
   "outputs": [],
   "source": [
    "def model_baseline(angle, time, group, choice=None):\n",
    "    # define prior distributions of weights\n",
    "    alpha = npr.sample(\"alpha\", dist.Normal(0, 1))\n",
    "    beta = npr.sample(\"beta\", dist.Normal(0, 1))\n",
    "    gamma = npr.sample(\"gamma\", dist.Normal(0, 1))\n",
    "\n",
    "    logits = alpha * angle + beta * time + gamma * group\n",
    "\n",
    "    if choice is None:\n",
    "        # inspired by this numpyro example: https://num.pyro.ai/en/stable/examples/ucbadmit.html\n",
    "        probs = expit(logits)\n",
    "        npr.sample(\"probs\", dist.Delta(probs), obs=probs)\n",
    "    npr.sample(\"choice\", dist.Bernoulli(logits=logits), obs=choice)\n",
    "    # could alternatively do\n",
    "    # probs = npr.deterministic(\"probs\", expit(logits))\n",
    "    # dist.Bernoulli(probs=probs)"
   ]
  },
  {
   "cell_type": "markdown",
   "id": "75cf7dce",
   "metadata": {},
   "source": [
    "A model is fitted using MCMC (Markov Chain Monte Carlo) Sampling, usually with the NUTS (no U-turn sampling) algorithm. This sampler object is defined as follows:"
   ]
  },
  {
   "cell_type": "code",
   "execution_count": null,
   "id": "863f6225",
   "metadata": {},
   "outputs": [],
   "source": [
    "num_warmup = 500\n",
    "num_samples = 1000\n",
    "num_chains = 2"
   ]
  },
  {
   "cell_type": "code",
   "execution_count": null,
   "id": "e369ea31",
   "metadata": {},
   "outputs": [
    {
     "name": "stderr",
     "output_type": "stream",
     "text": [
      "C:\\Users\\key\\AppData\\Local\\Temp\\ipykernel_21200\\2538595675.py:5: UserWarning: There are not enough devices to run parallel chains: expected 2 but got 1. Chains will be drawn sequentially. If you are running MCMC in CPU, consider using `numpyro.set_host_device_count(2)` at the beginning of your program. You can double-check how many devices are available in your system using `jax.local_device_count()`.\n",
      "  mcmc_baseline = MCMC(kernel, num_warmup=num_warmup, num_samples=num_samples, num_chains=num_chains)\n"
     ]
    }
   ],
   "source": [
    "kernel = NUTS(model_baseline)\n",
    "mcmc_baseline = MCMC(kernel, num_warmup=num_warmup, num_samples=num_samples, num_chains=num_chains)"
   ]
  },
  {
   "cell_type": "code",
   "execution_count": 36,
   "id": "960ab83b",
   "metadata": {},
   "outputs": [
    {
     "name": "stderr",
     "output_type": "stream",
     "text": [
      "sample: 100%|██████████| 1500/1500 [00:09<00:00, 156.41it/s, 15 steps of size 5.17e-01. acc. prob=0.93]\n",
      "sample: 100%|██████████| 1500/1500 [00:08<00:00, 185.55it/s, 11 steps of size 5.06e-01. acc. prob=0.92]\n"
     ]
    }
   ],
   "source": [
    "# provide data as model parameters\n",
    "rng_key, rng_key_ = random.split(rng_key)\n",
    "mcmc_baseline.run(\n",
    "    rng_key_, \n",
    "    angle=df[\"angle_norm\"].values, \n",
    "    time=df[\"time_norm\"].values,\n",
    "    group=df[\"group\"].values,\n",
    "    choice=df[\"causality_judgement\"].values,\n",
    ")"
   ]
  },
  {
   "cell_type": "code",
   "execution_count": 37,
   "id": "b94a4ff6",
   "metadata": {},
   "outputs": [
    {
     "data": {
      "text/html": [
       "<div>\n",
       "<style scoped>\n",
       "    .dataframe tbody tr th:only-of-type {\n",
       "        vertical-align: middle;\n",
       "    }\n",
       "\n",
       "    .dataframe tbody tr th {\n",
       "        vertical-align: top;\n",
       "    }\n",
       "\n",
       "    .dataframe thead th {\n",
       "        text-align: right;\n",
       "    }\n",
       "</style>\n",
       "<table border=\"1\" class=\"dataframe\">\n",
       "  <thead>\n",
       "    <tr style=\"text-align: right;\">\n",
       "      <th></th>\n",
       "      <th>mean</th>\n",
       "      <th>sd</th>\n",
       "      <th>hdi_3%</th>\n",
       "      <th>hdi_97%</th>\n",
       "      <th>mcse_mean</th>\n",
       "      <th>mcse_sd</th>\n",
       "      <th>ess_bulk</th>\n",
       "      <th>ess_tail</th>\n",
       "      <th>r_hat</th>\n",
       "    </tr>\n",
       "  </thead>\n",
       "  <tbody>\n",
       "    <tr>\n",
       "      <th>alpha</th>\n",
       "      <td>-0.340</td>\n",
       "      <td>0.029</td>\n",
       "      <td>-0.394</td>\n",
       "      <td>-0.288</td>\n",
       "      <td>0.001</td>\n",
       "      <td>0.001</td>\n",
       "      <td>1318.0</td>\n",
       "      <td>1155.0</td>\n",
       "      <td>1.0</td>\n",
       "    </tr>\n",
       "    <tr>\n",
       "      <th>beta</th>\n",
       "      <td>-0.947</td>\n",
       "      <td>0.031</td>\n",
       "      <td>-1.011</td>\n",
       "      <td>-0.894</td>\n",
       "      <td>0.001</td>\n",
       "      <td>0.001</td>\n",
       "      <td>1243.0</td>\n",
       "      <td>1105.0</td>\n",
       "      <td>1.0</td>\n",
       "    </tr>\n",
       "    <tr>\n",
       "      <th>gamma</th>\n",
       "      <td>0.473</td>\n",
       "      <td>0.023</td>\n",
       "      <td>0.432</td>\n",
       "      <td>0.515</td>\n",
       "      <td>0.001</td>\n",
       "      <td>0.000</td>\n",
       "      <td>1395.0</td>\n",
       "      <td>1525.0</td>\n",
       "      <td>1.0</td>\n",
       "    </tr>\n",
       "  </tbody>\n",
       "</table>\n",
       "</div>"
      ],
      "text/plain": [
       "        mean     sd  hdi_3%  hdi_97%  mcse_mean  mcse_sd  ess_bulk  ess_tail  \\\n",
       "alpha -0.340  0.029  -0.394   -0.288      0.001    0.001    1318.0    1155.0   \n",
       "beta  -0.947  0.031  -1.011   -0.894      0.001    0.001    1243.0    1105.0   \n",
       "gamma  0.473  0.023   0.432    0.515      0.001    0.000    1395.0    1525.0   \n",
       "\n",
       "       r_hat  \n",
       "alpha    1.0  \n",
       "beta     1.0  \n",
       "gamma    1.0  "
      ]
     },
     "execution_count": 37,
     "metadata": {},
     "output_type": "execute_result"
    }
   ],
   "source": [
    "trace_baseline = az.from_numpyro(mcmc_baseline)\n",
    "sum_fit_baseline = az.summary(trace_baseline)\n",
    "sum_fit_baseline"
   ]
  },
  {
   "cell_type": "markdown",
   "id": "9b2b7e3f",
   "metadata": {},
   "source": [
    "**Parameter interpretation** \n",
    "\n",
    "#TODO"
   ]
  },
  {
   "cell_type": "markdown",
   "id": "95129e46",
   "metadata": {},
   "source": [
    "Equivalently, we can define and fit our interaction model"
   ]
  },
  {
   "cell_type": "code",
   "execution_count": 40,
   "id": "13bbf1a5",
   "metadata": {},
   "outputs": [
    {
     "name": "stderr",
     "output_type": "stream",
     "text": [
      "C:\\Users\\key\\AppData\\Local\\Temp\\ipykernel_21200\\689831301.py:18: UserWarning: There are not enough devices to run parallel chains: expected 2 but got 1. Chains will be drawn sequentially. If you are running MCMC in CPU, consider using `numpyro.set_host_device_count(2)` at the beginning of your program. You can double-check how many devices are available in your system using `jax.local_device_count()`.\n",
      "  mcmc_interaction = MCMC(kernel, num_warmup=num_warmup, num_samples=num_samples, num_chains=num_chains)\n",
      "sample: 100%|██████████| 1500/1500 [00:20<00:00, 74.99it/s, 15 steps of size 2.33e-01. acc. prob=0.94]\n",
      "sample: 100%|██████████| 1500/1500 [00:18<00:00, 82.74it/s, 11 steps of size 2.27e-01. acc. prob=0.95]\n"
     ]
    },
    {
     "data": {
      "text/html": [
       "<div>\n",
       "<style scoped>\n",
       "    .dataframe tbody tr th:only-of-type {\n",
       "        vertical-align: middle;\n",
       "    }\n",
       "\n",
       "    .dataframe tbody tr th {\n",
       "        vertical-align: top;\n",
       "    }\n",
       "\n",
       "    .dataframe thead th {\n",
       "        text-align: right;\n",
       "    }\n",
       "</style>\n",
       "<table border=\"1\" class=\"dataframe\">\n",
       "  <thead>\n",
       "    <tr style=\"text-align: right;\">\n",
       "      <th></th>\n",
       "      <th>mean</th>\n",
       "      <th>sd</th>\n",
       "      <th>hdi_3%</th>\n",
       "      <th>hdi_97%</th>\n",
       "      <th>mcse_mean</th>\n",
       "      <th>mcse_sd</th>\n",
       "      <th>ess_bulk</th>\n",
       "      <th>ess_tail</th>\n",
       "      <th>r_hat</th>\n",
       "    </tr>\n",
       "  </thead>\n",
       "  <tbody>\n",
       "    <tr>\n",
       "      <th>alpha</th>\n",
       "      <td>0.558</td>\n",
       "      <td>0.041</td>\n",
       "      <td>0.488</td>\n",
       "      <td>0.641</td>\n",
       "      <td>0.001</td>\n",
       "      <td>0.001</td>\n",
       "      <td>752.0</td>\n",
       "      <td>1157.0</td>\n",
       "      <td>1.0</td>\n",
       "    </tr>\n",
       "    <tr>\n",
       "      <th>alpha_g</th>\n",
       "      <td>-2.559</td>\n",
       "      <td>0.069</td>\n",
       "      <td>-2.697</td>\n",
       "      <td>-2.436</td>\n",
       "      <td>0.002</td>\n",
       "      <td>0.002</td>\n",
       "      <td>807.0</td>\n",
       "      <td>896.0</td>\n",
       "      <td>1.0</td>\n",
       "    </tr>\n",
       "    <tr>\n",
       "      <th>beta</th>\n",
       "      <td>-1.477</td>\n",
       "      <td>0.045</td>\n",
       "      <td>-1.564</td>\n",
       "      <td>-1.398</td>\n",
       "      <td>0.002</td>\n",
       "      <td>0.001</td>\n",
       "      <td>742.0</td>\n",
       "      <td>1110.0</td>\n",
       "      <td>1.0</td>\n",
       "    </tr>\n",
       "    <tr>\n",
       "      <th>beta_g</th>\n",
       "      <td>0.259</td>\n",
       "      <td>0.072</td>\n",
       "      <td>0.134</td>\n",
       "      <td>0.398</td>\n",
       "      <td>0.002</td>\n",
       "      <td>0.002</td>\n",
       "      <td>869.0</td>\n",
       "      <td>1172.0</td>\n",
       "      <td>1.0</td>\n",
       "    </tr>\n",
       "    <tr>\n",
       "      <th>gamma</th>\n",
       "      <td>1.284</td>\n",
       "      <td>0.038</td>\n",
       "      <td>1.217</td>\n",
       "      <td>1.358</td>\n",
       "      <td>0.001</td>\n",
       "      <td>0.001</td>\n",
       "      <td>1064.0</td>\n",
       "      <td>1148.0</td>\n",
       "      <td>1.0</td>\n",
       "    </tr>\n",
       "  </tbody>\n",
       "</table>\n",
       "</div>"
      ],
      "text/plain": [
       "          mean     sd  hdi_3%  hdi_97%  mcse_mean  mcse_sd  ess_bulk  \\\n",
       "alpha    0.558  0.041   0.488    0.641      0.001    0.001     752.0   \n",
       "alpha_g -2.559  0.069  -2.697   -2.436      0.002    0.002     807.0   \n",
       "beta    -1.477  0.045  -1.564   -1.398      0.002    0.001     742.0   \n",
       "beta_g   0.259  0.072   0.134    0.398      0.002    0.002     869.0   \n",
       "gamma    1.284  0.038   1.217    1.358      0.001    0.001    1064.0   \n",
       "\n",
       "         ess_tail  r_hat  \n",
       "alpha      1157.0    1.0  \n",
       "alpha_g     896.0    1.0  \n",
       "beta       1110.0    1.0  \n",
       "beta_g     1172.0    1.0  \n",
       "gamma      1148.0    1.0  "
      ]
     },
     "execution_count": 40,
     "metadata": {},
     "output_type": "execute_result"
    }
   ],
   "source": [
    "def model_interaction(angle, time, group, choice=None):\n",
    "    # define prior distributions of weights\n",
    "    alpha = npr.sample(\"alpha\", dist.Normal(0, 1))\n",
    "    alpha_g = npr.sample(\"alpha_g\", dist.Normal(0, 1))\n",
    "    beta = npr.sample(\"beta\", dist.Normal(0, 1))\n",
    "    beta_g = npr.sample(\"beta_g\", dist.Normal(0, 1))\n",
    "    gamma = npr.sample(\"gamma\", dist.Normal(0, 1))\n",
    "\n",
    "    logits = (alpha + alpha_g * group) * angle + (beta + beta_g * group) * time + gamma * group\n",
    "\n",
    "    if choice is None:\n",
    "        probs = expit(logits)\n",
    "        npr.sample(\"probs\", dist.Delta(probs), obs=probs)\n",
    "    npr.sample(\"choice\", dist.Bernoulli(logits=logits), obs=choice)\n",
    "\n",
    "# we use the same number of burn ins, samples and chains as above\n",
    "kernel = NUTS(model_interaction)\n",
    "mcmc_interaction = MCMC(kernel, num_warmup=num_warmup, num_samples=num_samples, num_chains=num_chains)\n",
    "\n",
    "# provide data as model parameters\n",
    "rng_key, rng_key_ = random.split(rng_key)\n",
    "mcmc_interaction.run(\n",
    "    rng_key_, \n",
    "    angle=df[\"angle_norm\"].values, \n",
    "    time=df[\"time_norm\"].values,\n",
    "    group=df[\"group\"].values,\n",
    "    choice=df[\"causality_judgement\"].values,\n",
    ")\n",
    "\n",
    "trace_interaction = az.from_numpyro(mcmc_interaction)\n",
    "sum_fit_interaction = az.summary(trace_interaction)\n",
    "sum_fit_interaction"
   ]
  },
  {
   "cell_type": "markdown",
   "id": "1eba2240",
   "metadata": {},
   "source": [
    "**Parameter interpretation** \n",
    "\n",
    "#TODO"
   ]
  },
  {
   "cell_type": "markdown",
   "id": "b2dd22f8",
   "metadata": {},
   "source": [
    "## 5. Visualizing model parameter and posterior distributions"
   ]
  },
  {
   "cell_type": "code",
   "execution_count": null,
   "id": "08cfd7a9",
   "metadata": {},
   "outputs": [],
   "source": []
  },
  {
   "cell_type": "markdown",
   "id": "6c4de400",
   "metadata": {},
   "source": [
    "## 6. Making some predictions"
   ]
  },
  {
   "cell_type": "code",
   "execution_count": null,
   "id": "f5577722",
   "metadata": {},
   "outputs": [],
   "source": []
  },
  {
   "cell_type": "markdown",
   "id": "6c68f025",
   "metadata": {},
   "source": [
    "## 7. Model comparison"
   ]
  },
  {
   "cell_type": "code",
   "execution_count": null,
   "id": "378db485",
   "metadata": {},
   "outputs": [],
   "source": []
  }
 ],
 "metadata": {
  "kernelspec": {
   "display_name": ".venv",
   "language": "python",
   "name": "python3"
  },
  "language_info": {
   "codemirror_mode": {
    "name": "ipython",
    "version": 3
   },
   "file_extension": ".py",
   "mimetype": "text/x-python",
   "name": "python",
   "nbconvert_exporter": "python",
   "pygments_lexer": "ipython3",
   "version": "3.12.10"
  }
 },
 "nbformat": 4,
 "nbformat_minor": 5
}
